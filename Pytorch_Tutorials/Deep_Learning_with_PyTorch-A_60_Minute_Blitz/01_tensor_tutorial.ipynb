{
 "cells": [
  {
   "cell_type": "code",
   "execution_count": 1,
   "metadata": {},
   "outputs": [],
   "source": [
    "%matplotlib inline"
   ]
  },
  {
   "cell_type": "markdown",
   "metadata": {},
   "source": [
    "\n",
    "PyTorch가 무엇인가요?\n",
    "=====================\n",
    "\n",
    "Python 기반의 과학 연산 패키지로 다음과 같은 두 집단을 대상으로 합니다:\n",
    "\n",
    "- NumPy를 대체하면서 GPU를 이용한 연산이 필요한 경우\n",
    "- 최대한의 유연성과 속도를 제공하는 딥러닝 연구 플랫폼이 필요한 경우\n",
    "\n",
    "시작하기\n",
    "--------\n",
    "\n",
    "### Tensors\n",
    "\n",
    "\n",
    "Tensor는 NumPy의 ndarray와 유사할 뿐만 아니라, GPU를 사용한 연산 가속도 지원합니다.\n",
    "\n"
   ]
  },
  {
   "cell_type": "code",
   "execution_count": 2,
   "metadata": {},
   "outputs": [],
   "source": [
    "from __future__ import print_function\n",
    "import torch"
   ]
  },
  {
   "cell_type": "markdown",
   "metadata": {},
   "source": [
    "초기화되지 않은 5x3 행렬을 생성합니다:\n",
    "\n"
   ]
  },
  {
   "cell_type": "code",
   "execution_count": 3,
   "metadata": {},
   "outputs": [
    {
     "name": "stdout",
     "output_type": "stream",
     "text": [
      "tensor([[ 0.0000e+00,  8.5899e+09,  0.0000e+00],\n",
      "        [ 8.5899e+09,  1.1210e-44, -0.0000e+00],\n",
      "        [ 0.0000e+00,  0.0000e+00,  0.0000e+00],\n",
      "        [ 1.4013e-45,  0.0000e+00,  0.0000e+00],\n",
      "        [ 0.0000e+00,  0.0000e+00,  0.0000e+00]])\n"
     ]
    }
   ],
   "source": [
    "x = torch.empty(5, 3) #dtype으로 타입을 지정해 줄 수 있다.\n",
    "print(x)"
   ]
  },
  {
   "cell_type": "markdown",
   "metadata": {},
   "source": [
    "무작위로 초기화된 행렬을 생성합니다:\n",
    "\n"
   ]
  },
  {
   "cell_type": "code",
   "execution_count": 4,
   "metadata": {},
   "outputs": [
    {
     "name": "stdout",
     "output_type": "stream",
     "text": [
      "tensor([[0.8233, 0.8904, 0.3962],\n",
      "        [0.9532, 0.0011, 0.8462],\n",
      "        [0.7424, 0.3356, 0.3457],\n",
      "        [0.5491, 0.4181, 0.2427],\n",
      "        [0.7673, 0.2561, 0.4042]])\n"
     ]
    }
   ],
   "source": [
    "x = torch.rand(5, 3) #0 ~ 1 사이 랜덤. dtype으로 타입을 지정해 줄 수 있다.\n",
    "print(x)"
   ]
  },
  {
   "cell_type": "markdown",
   "metadata": {},
   "source": [
    "dtype이 long이고 0으로 채워진 행렬을 생성합니다:\n",
    "\n"
   ]
  },
  {
   "cell_type": "code",
   "execution_count": 5,
   "metadata": {},
   "outputs": [
    {
     "name": "stdout",
     "output_type": "stream",
     "text": [
      "tensor([[0, 0, 0],\n",
      "        [0, 0, 0],\n",
      "        [0, 0, 0],\n",
      "        [0, 0, 0],\n",
      "        [0, 0, 0]])\n"
     ]
    }
   ],
   "source": [
    "x = torch.zeros(5, 3, dtype=torch.long)\n",
    "print(x)"
   ]
  },
  {
   "cell_type": "markdown",
   "metadata": {},
   "source": [
    "데이터로부터 바로 tensor를 생성합니다:\n",
    "\n"
   ]
  },
  {
   "cell_type": "code",
   "execution_count": 6,
   "metadata": {},
   "outputs": [
    {
     "name": "stdout",
     "output_type": "stream",
     "text": [
      "tensor([5.5000, 3.0000])\n"
     ]
    }
   ],
   "source": [
    "x = torch.tensor([5.5, 3]) #해당 데이터로 텐서를 생성한다.\n",
    "print(x)"
   ]
  },
  {
   "cell_type": "markdown",
   "metadata": {},
   "source": [
    "또는, 존재하는 tensor를 바탕으로 tensor를 만듭니다. 이 메소드(method)들은\n",
    "dtype과 같이 사용자로부터 제공된 새로운 값이 없는 한 입력 tensor의 속성을\n",
    "재사용합니다.\n",
    "\n"
   ]
  },
  {
   "cell_type": "code",
   "execution_count": 7,
   "metadata": {},
   "outputs": [
    {
     "name": "stdout",
     "output_type": "stream",
     "text": [
      "tensor([[1., 1., 1.],\n",
      "        [1., 1., 1.],\n",
      "        [1., 1., 1.],\n",
      "        [1., 1., 1.],\n",
      "        [1., 1., 1.]], dtype=torch.float64)\n",
      "tensor([[ 0.1100, -1.5985, -1.1783],\n",
      "        [ 0.7381, -1.0488,  1.6724],\n",
      "        [ 0.1735,  1.1214,  0.9071],\n",
      "        [ 0.1449,  1.0505, -2.2664],\n",
      "        [-0.5435, -1.9119,  1.2846]])\n"
     ]
    }
   ],
   "source": [
    "x = x.new_ones(5, 3, dtype=torch.double)      # new_* methods take in sizes\n",
    "print(x)\n",
    "\n",
    "x = torch.randn_like(x, dtype=torch.float)    # override dtype!\n",
    "print(x)                                      # result has the same size"
   ]
  },
  {
   "cell_type": "markdown",
   "metadata": {},
   "source": [
    "행렬의 크기를 구합니다:\n",
    "\n"
   ]
  },
  {
   "cell_type": "code",
   "execution_count": 8,
   "metadata": {},
   "outputs": [
    {
     "name": "stdout",
     "output_type": "stream",
     "text": [
      "torch.Size([5, 3])\n"
     ]
    }
   ],
   "source": [
    "print(x.size())"
   ]
  },
  {
   "cell_type": "markdown",
   "metadata": {},
   "source": [
    "<div class=\"alert alert-info\"><h4>Note</h4><p>``torch.Size`` 는 튜플(tuple)과 같으며, 모든 튜플 연산에 사용할 수 있습니다.</p></div>\n",
    "\n",
    "### 연산(Operations)\n",
    "\n",
    "연산을 위한 여러가지 문법을 제공합니다. 다음 예제들을 통해 덧셈 연산을 살펴보겠습니다.\n",
    "\n",
    "덧셈: 문법1\n",
    "\n"
   ]
  },
  {
   "cell_type": "code",
   "execution_count": 12,
   "metadata": {},
   "outputs": [
    {
     "name": "stdout",
     "output_type": "stream",
     "text": [
      "tensor([[ 1.0080, -0.7424, -0.8489],\n",
      "        [ 1.3420, -0.1398,  1.7015],\n",
      "        [ 0.7860,  1.9231,  1.5447],\n",
      "        [ 1.0603,  1.2829, -1.4006],\n",
      "        [-0.3235, -1.0733,  1.4858]])\n"
     ]
    }
   ],
   "source": [
    "y = torch.rand(5, 3) #사이즈를 맞춰줘야 한다.\n",
    "print(x + y)"
   ]
  },
  {
   "cell_type": "markdown",
   "metadata": {},
   "source": [
    "덧셈: 문법2\n",
    "\n"
   ]
  },
  {
   "cell_type": "code",
   "execution_count": 13,
   "metadata": {},
   "outputs": [
    {
     "name": "stdout",
     "output_type": "stream",
     "text": [
      "tensor([[ 1.0080, -0.7424, -0.8489],\n",
      "        [ 1.3420, -0.1398,  1.7015],\n",
      "        [ 0.7860,  1.9231,  1.5447],\n",
      "        [ 1.0603,  1.2829, -1.4006],\n",
      "        [-0.3235, -1.0733,  1.4858]])\n"
     ]
    }
   ],
   "source": [
    "print(torch.add(x, y)) #그냥 연산자 +로 쓰는 것이 편하다."
   ]
  },
  {
   "cell_type": "markdown",
   "metadata": {},
   "source": [
    "덧셈: 결과 tensor를 인자로 제공\n",
    "\n"
   ]
  },
  {
   "cell_type": "code",
   "execution_count": 15,
   "metadata": {},
   "outputs": [
    {
     "name": "stdout",
     "output_type": "stream",
     "text": [
      "tensor([[ 1.0080, -0.7424, -0.8489],\n",
      "        [ 1.3420, -0.1398,  1.7015],\n",
      "        [ 0.7860,  1.9231,  1.5447],\n",
      "        [ 1.0603,  1.2829, -1.4006],\n",
      "        [-0.3235, -1.0733,  1.4858]])\n",
      "tensor([[ 0.0000e+00,  8.5899e+09, -2.9923e-34],\n",
      "        [-8.5920e+09,  7.0065e-45,  1.9627e+00],\n",
      "        [-2.0000e+00,  1.8215e+00, -0.0000e+00],\n",
      "        [ 1.9904e+00,  0.0000e+00,  1.9431e+00],\n",
      "        [-2.0000e+00,  1.8825e+00,  3.6893e+19]])\n"
     ]
    }
   ],
   "source": [
    "result = torch.empty(5, 3) #초기화되지 않은 tensor. 비어있거나 0이 아니다.\n",
    "torch.add(x, y, out=result)\n",
    "print(result)"
   ]
  },
  {
   "cell_type": "markdown",
   "metadata": {},
   "source": [
    "덧셈: 바꿔치기(In-place) 방식\n",
    "\n"
   ]
  },
  {
   "cell_type": "code",
   "execution_count": 19,
   "metadata": {},
   "outputs": [
    {
     "name": "stdout",
     "output_type": "stream",
     "text": [
      "tensor([[ 1.2281, -3.9394, -3.2054],\n",
      "        [ 2.8182, -2.2373,  5.0464],\n",
      "        [ 1.1329,  4.1659,  3.3589],\n",
      "        [ 1.3500,  3.3839, -5.9334],\n",
      "        [-1.4104, -4.8972,  4.0550]])\n"
     ]
    }
   ],
   "source": [
    "# y에 x 더하기\n",
    "y.add_(x) #y의 값이 변한다. 그냥 add(x)를 사용하면, 값이 변하지 않는다.\n",
    "print(y)"
   ]
  },
  {
   "cell_type": "markdown",
   "metadata": {},
   "source": [
    "<div class=\"alert alert-info\"><h4>Note</h4><p>바꿔치기(In-place) 방식으로 tensor의 값을 변경하는 연산은 ``_`` 를 접미사로\n",
    "    갖습니다.\n",
    "    예: ``x.copy_(y)``, ``x.t_()`` 는 ``x`` 를 변경합니다.</p></div>\n",
    "\n",
    "NumPy의 인덱싱 표기 방법을 사용할 수도 있습니다!\n",
    "\n"
   ]
  },
  {
   "cell_type": "code",
   "execution_count": 20,
   "metadata": {},
   "outputs": [
    {
     "name": "stdout",
     "output_type": "stream",
     "text": [
      "tensor([[ 0.1100, -1.5985, -1.1783],\n",
      "        [ 0.7381, -1.0488,  1.6724],\n",
      "        [ 0.1735,  1.1214,  0.9071],\n",
      "        [ 0.1449,  1.0505, -2.2664],\n",
      "        [-0.5435, -1.9119,  1.2846]])\n",
      "tensor([-1.5985, -1.0488,  1.1214,  1.0505, -1.9119])\n"
     ]
    }
   ],
   "source": [
    "print(x[:, 1]) #둘재 열만 출력"
   ]
  },
  {
   "cell_type": "markdown",
   "metadata": {},
   "source": [
    "크기 변경: tensor의 크기(size)나 모양(shape)을 변경하고 싶을 때, ``torch.view`` 를 사용합니다.\n",
    "\n"
   ]
  },
  {
   "cell_type": "code",
   "execution_count": 25,
   "metadata": {},
   "outputs": [
    {
     "name": "stdout",
     "output_type": "stream",
     "text": [
      "torch.Size([4, 4]) torch.Size([16]) torch.Size([2, 8])\n",
      "tensor([[-0.7294, -0.0540, -0.5819,  0.9333, -0.5747,  1.9046, -1.4706,  1.8252],\n",
      "        [ 0.0229,  0.5144,  0.0068,  1.5784,  0.9555, -0.1464, -0.7940,  0.8415]])\n"
     ]
    }
   ],
   "source": [
    "x = torch.randn(4, 4)\n",
    "y = x.view(16)\n",
    "z = x.view(-1, 8)  # 사이즈가 -1인 경우 다른 차원들을 사용하여 유추합니다. #reshape를 쓰기도 한다.\n",
    "print(x.size(), y.size(), z.size())"
   ]
  },
  {
   "cell_type": "markdown",
   "metadata": {},
   "source": [
    "만약 tensor에 하나의 값만 존재한다면, ``.item()`` 을 사용하면 숫자 값을 얻을 수 있습니다.\n",
    "\n"
   ]
  },
  {
   "cell_type": "code",
   "execution_count": 26,
   "metadata": {},
   "outputs": [
    {
     "name": "stdout",
     "output_type": "stream",
     "text": [
      "tensor([0.3308])\n",
      "0.33083683252334595\n"
     ]
    }
   ],
   "source": [
    "x = torch.randn(1)\n",
    "print(x)\n",
    "print(x.item())"
   ]
  },
  {
   "cell_type": "markdown",
   "metadata": {},
   "source": [
    "**더 읽을거리:**\n",
    "\n",
    "\n",
    "  전치(transposing), 인덱싱(indexing), 슬라이싱(slicing), 수학 계산,\n",
    "  선형 대수, 난수(random number) 등과 같은 100가지 이상의 Tensor 연산은\n",
    "  [여기](http://pytorch.org/docs/torch) 에 설명되어 있습니다.\n",
    "\n",
    "NumPy 변환(Bridge)\n",
    "------------------\n",
    "\n",
    "Torch Tensor를 NumPy 배열(array)로 변환하거나, 그 반대로 하는 것은 매우 쉽습니다.\n",
    "\n",
    "Torch Tensor와 NumPy 배열은 저장 공간을 공유하기 때문에, 하나를 변경하면 다른 하나도\n",
    "변경됩니다.\n",
    "\n",
    "### Torch Tensor를 NumPy 배열로 변환하기\n",
    "\n",
    "\n"
   ]
  },
  {
   "cell_type": "code",
   "execution_count": 32,
   "metadata": {},
   "outputs": [
    {
     "name": "stdout",
     "output_type": "stream",
     "text": [
      "tensor([1., 1., 1., 1., 1.])\n"
     ]
    }
   ],
   "source": [
    "a = torch.ones(5)\n",
    "print(a)"
   ]
  },
  {
   "cell_type": "code",
   "execution_count": 33,
   "metadata": {},
   "outputs": [
    {
     "name": "stdout",
     "output_type": "stream",
     "text": [
      "[1. 1. 1. 1. 1.]\n"
     ]
    }
   ],
   "source": [
    "b = a.numpy() #numpy()로 ndarray로 변환한다.\n",
    "print(b)"
   ]
  },
  {
   "cell_type": "markdown",
   "metadata": {},
   "source": [
    "NumPy 배열의 값이 어떻게 변하는지 확인해보세요.\n",
    "\n"
   ]
  },
  {
   "cell_type": "code",
   "execution_count": 34,
   "metadata": {},
   "outputs": [
    {
     "name": "stdout",
     "output_type": "stream",
     "text": [
      "tensor([2., 2., 2., 2., 2.])\n",
      "[2. 2. 2. 2. 2.]\n"
     ]
    }
   ],
   "source": [
    "a.add_(1) #_(언더 스코어)가 있는 연산은 본래의 값을 변화시킨다.\n",
    "print(a)\n",
    "print(b)"
   ]
  },
  {
   "cell_type": "markdown",
   "metadata": {},
   "source": [
    "### NumPy 배열을 Torch Tensor로 변환하기\n",
    "\n",
    "NumPy(np) 배열을 변경하면 Torch Tensor의 값도 자동 변경되는 것을 확인해보세요.\n",
    "\n"
   ]
  },
  {
   "cell_type": "code",
   "execution_count": 35,
   "metadata": {},
   "outputs": [
    {
     "name": "stdout",
     "output_type": "stream",
     "text": [
      "[2. 2. 2. 2. 2.]\n",
      "tensor([2., 2., 2., 2., 2.], dtype=torch.float64)\n"
     ]
    }
   ],
   "source": [
    "import numpy as np\n",
    "a = np.ones(5)\n",
    "b = torch.from_numpy(a) #from_numpy()로 ndarray를 Tensor로 변환시킨다.\n",
    "np.add(a, 1, out=a)\n",
    "print(a)\n",
    "print(b)"
   ]
  },
  {
   "cell_type": "markdown",
   "metadata": {},
   "source": [
    "CharTensor를 제외한 CPU 상의 모든 Tensor는 NumPy로의 변환을 지원하며,\n",
    "(NumPy에서 Tensor로의) 반대 변환도 지원합니다.\n",
    "\n",
    "CUDA Tensors\n",
    "------------\n",
    "\n",
    "``.to`` 메소드를 사용하여 Tensor를 어떠한 장치로도 옮길 수 있습니다.\n",
    "\n"
   ]
  },
  {
   "cell_type": "code",
   "execution_count": null,
   "metadata": {},
   "outputs": [],
   "source": [
    "# 이 코드는 CUDA가 사용 가능한 환경에서만 실행합니다.\n",
    "# ``torch.device`` 를 사용하여 tensor를 GPU 안팎으로 이동해보겠습니다.\n",
    "if torch.cuda.is_available(): #Cuda 사용 가능 환경\n",
    "    device = torch.device(\"cuda\")          # CUDA 장치 객체(Device Object)로\n",
    "    y = torch.ones_like(x, device=device)  # GPU 상에 바로(directly) tensor를 생성하거나\n",
    "    x = x.to(device)                       # 단지 ``.to(\"cuda\")`` 라고만 작성하면 됩니다.\n",
    "    z = x + y\n",
    "    print(z)\n",
    "    print(z.to(\"cpu\", torch.double))       # ``.to`` 는 dtype도 함께 변경합니다!"
   ]
  }
 ],
 "metadata": {
  "kernelspec": {
   "display_name": "Python [conda env:turienv]",
   "language": "python",
   "name": "conda-env-turienv-py"
  },
  "language_info": {
   "codemirror_mode": {
    "name": "ipython",
    "version": 3
   },
   "file_extension": ".py",
   "mimetype": "text/x-python",
   "name": "python",
   "nbconvert_exporter": "python",
   "pygments_lexer": "ipython3",
   "version": "3.6.5"
  }
 },
 "nbformat": 4,
 "nbformat_minor": 1
}
