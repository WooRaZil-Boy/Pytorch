{
 "cells": [
  {
   "cell_type": "code",
   "execution_count": 1,
   "metadata": {},
   "outputs": [],
   "source": [
    "%matplotlib inline"
   ]
  },
  {
   "cell_type": "markdown",
   "metadata": {},
   "source": [
    "\n",
    "Autograd: 자동 미분\n",
    "===================================\n",
    "\n",
    "PyTorch의 모든 신경망의 중심에는 ``autograd`` 패키지가 있습니다.\n",
    "먼저 이것을 가볍게 살펴본 뒤, 첫번째 신경망을 학습시켜보겠습니다.\n",
    "\n",
    "\n",
    "``autograd`` 패키지는 Tensor의 모든 연산에 대해 자동 미분을 제공합니다.\n",
    "이는 실행-기반-정의(define-by-run) 프레임워크로, 이는 코드를 어떻게 작성하여 실행하느냐에\n",
    "따라 역전파가 정의된다는 뜻이며, 역전파는 학습 과정의 매 단계마다 달라집니다.\n",
    "\n",
    "좀 더 간단한 용어로 몇 가지 예를 보이겠습니다.\n",
    "\n",
    "Tensor\n",
    "--------\n",
    "\n",
    "패키지의 중심에는 ``torch.Tensor`` 클래스가 있습니다. 만약 ``.requires_grad``\n",
    "속성을 ``True`` 로 설정하면, 그 tensor에서 이뤄진 모든 연산들을 추적(Track)하기\n",
    "시작합니다. 계산이 완료된 후 ``.backward()`` 를 호출하여 모든 변화도(gradient)를\n",
    "자동으로 계산할 수 있습니다. 이 Tensor의 변화도는 ``.grad`` 에 누적됩니다.\n",
    "\n",
    "Tensor가 기록을 중단하게 하려면, ``.detach()`` 를 호출하여 연산 기록으로부터\n",
    "분리(detach)하여 이후 연산들이 기록되는 것을 방지할 수 있습니다.\n",
    "\n",
    "연산 기록을 추적하는 것(과 메모리 사용)을 멈추기 위해, 코드 블럭(Code Block)을\n",
    "``with torch.no_grad():`` 로 감쌀 수 있습니다. 이는 특히 변화도(Gradient)는\n",
    "필요없지만, `requires_grad=True` 가 설정되어 학습 가능한 매개변수(Parameter)를\n",
    "갖는 모델을 평가(Evaluate)할 때 유용합니다.\n",
    "\n",
    "Autograd 구현에서 매우 중요한 클래스가 하나 더 있는데요, 바로 ``Function``\n",
    "클래스입니다.\n",
    "\n",
    "``Tensor`` 와 ``Function`` 은 상호 연결되어 있으며, 모든 연산 과정을\n",
    "부호화(encode)하여 순환하지 않은 그래프(acyclic graph)를 생성합니다. 각 변수는\n",
    "``.grad_fn`` 속성을 갖고 있는데, 이는 ``Tensor`` 를 생성한 ``Function`` 을\n",
    "참조하고 있습니다. (단, 사용자가 만든 Tensor는 예외로, 이 때 ``grad_fn`` 은\n",
    "``None`` 입니다.)\n",
    "\n",
    "도함수를 계산하기 위해서는, ``Tensor`` 의 ``.backward()`` 를 호출하면 됩니다.\n",
    "``Tensor`` 가 스칼라(scalar)인 경우(예. 하나의 요소만 갖는 등)에는, ``backward`` 에\n",
    "인자를 정해줄 필요가 없습니다. 하지만 여러 개의 요소를 갖고 있을\n",
    "때는 tensor의 모양을 ``gradient`` 의 인자로 지정할 필요가 있습니다.\n",
    "\n"
   ]
  },
  {
   "cell_type": "code",
   "execution_count": 2,
   "metadata": {},
   "outputs": [],
   "source": [
    "import torch"
   ]
  },
  {
   "cell_type": "markdown",
   "metadata": {},
   "source": [
    "tensor를 생성하고 requires_grad=True를 설정하여 연산을 기록합니다.\n",
    "\n"
   ]
  },
  {
   "cell_type": "code",
   "execution_count": 3,
   "metadata": {},
   "outputs": [
    {
     "name": "stdout",
     "output_type": "stream",
     "text": [
      "tensor([[1., 1.],\n",
      "        [1., 1.]], requires_grad=True)\n"
     ]
    }
   ],
   "source": [
    "x = torch.ones(2, 2, requires_grad=True) #requires_grad를 true로 설정하면, 해당 텐서의 모든 연산을 추적한다.\n",
    "print(x)"
   ]
  },
  {
   "cell_type": "markdown",
   "metadata": {},
   "source": [
    "tensor에 연산을 수행합니다:\n",
    "\n"
   ]
  },
  {
   "cell_type": "code",
   "execution_count": 4,
   "metadata": {},
   "outputs": [
    {
     "name": "stdout",
     "output_type": "stream",
     "text": [
      "tensor([[3., 3.],\n",
      "        [3., 3.]], grad_fn=<AddBackward>)\n"
     ]
    }
   ],
   "source": [
    "y = x + 2\n",
    "print(y)"
   ]
  },
  {
   "cell_type": "markdown",
   "metadata": {},
   "source": [
    "``y`` 는 연산의 결과로 생성된 것이므로, ``grad_fn`` 을 갖습니다.\n",
    "\n"
   ]
  },
  {
   "cell_type": "code",
   "execution_count": 5,
   "metadata": {},
   "outputs": [
    {
     "name": "stdout",
     "output_type": "stream",
     "text": [
      "<AddBackward object at 0x114881c50>\n",
      "None\n"
     ]
    }
   ],
   "source": [
    "print(y.grad_fn) #requires_grad가 True인 tensor가 Function의 결과로 생성된 tensor는 grad_fn를 가지고 있다.\n",
    "\n",
    "print(x.grad_fn) #사용자가 직접 생성한 tensor는 grad_fn를 가지고 있지 않다.\n",
    "#직접 생성한 Tensor는 직접적으로 연산하지 않으므로, 기울기를 계산할 필요가 없기 때문이다."
   ]
  },
  {
   "cell_type": "markdown",
   "metadata": {},
   "source": [
    "y에 다른 연산을 수행합니다.\n",
    "\n"
   ]
  },
  {
   "cell_type": "code",
   "execution_count": 6,
   "metadata": {},
   "outputs": [
    {
     "name": "stdout",
     "output_type": "stream",
     "text": [
      "tensor([[27., 27.],\n",
      "        [27., 27.]], grad_fn=<MulBackward>) tensor(27., grad_fn=<MeanBackward1>)\n"
     ]
    }
   ],
   "source": [
    "z = y * y * 3\n",
    "out = z.mean()\n",
    "\n",
    "print(z, out) #z와 out도 모두 연산의 결과로 생성된 tensor이므로 grad_fn를 가지고 있다."
   ]
  },
  {
   "cell_type": "markdown",
   "metadata": {},
   "source": [
    "``.requires_grad_( ... )`` 는 기존 Tensor의 ``requires_grad`` 값을 In-place로\n",
    "변경합니다. 입력값이 지정되지 않으면 기본값은 ``True`` 입니다.\n",
    "\n"
   ]
  },
  {
   "cell_type": "code",
   "execution_count": 7,
   "metadata": {},
   "outputs": [
    {
     "name": "stdout",
     "output_type": "stream",
     "text": [
      "False\n",
      "True\n",
      "<SumBackward0 object at 0x114895470>\n"
     ]
    }
   ],
   "source": [
    "a = torch.randn(2, 2)\n",
    "a = ((a * 3) / (a - 1))\n",
    "print(a.requires_grad)\n",
    "a.requires_grad_(True) #생성할 때 지정 해주지 않고 이후에 지정해 줄 수도 있다.\n",
    "print(a.requires_grad)\n",
    "b = (a * a).sum()\n",
    "print(b.grad_fn)\n",
    "\n",
    "#gradient가 필요한 input이라면, output 또한 gradient가 필요하다\n",
    "#반대로 gradient가 필요하지 않은 input이라면, output 또한 gradient가 필요하지 않다.\n",
    "#모든 변수가 gradient가 필요없는 연산이라면, 그 결과 연산도 필요하지 않게 되고, 하나라도 필요한 연산이라면 그 결과도 필요하게 된다."
   ]
  },
  {
   "cell_type": "markdown",
   "metadata": {},
   "source": [
    "변화도(Gradient)\n",
    "-----------------\n",
    "이제 역전파(backprop)를 해보겠습니다.\n",
    "``out`` 은 하나의 스칼라(Scalar) 값만 갖고 있기 때문에, ``out.backward()`` 는\n",
    "``out.backward(torch.tensor(1))`` 을 하는 것과 똑같습니다.\n",
    "\n"
   ]
  },
  {
   "cell_type": "code",
   "execution_count": 8,
   "metadata": {},
   "outputs": [],
   "source": [
    "out.backward() #두 번 호출하면 다른 값이 나온다. #backward()으로 gradient를 자동으로 계산할 수 있다."
   ]
  },
  {
   "cell_type": "markdown",
   "metadata": {},
   "source": [
    "변화도 d(out)/dx를 출력합니다.\n",
    "\n",
    "\n"
   ]
  },
  {
   "cell_type": "code",
   "execution_count": 9,
   "metadata": {},
   "outputs": [
    {
     "name": "stdout",
     "output_type": "stream",
     "text": [
      "tensor([[4.5000, 4.5000],\n",
      "        [4.5000, 4.5000]])\n"
     ]
    }
   ],
   "source": [
    "print(x.grad) #gradient는 grad 속성에 누적되어 저장된다."
   ]
  },
  {
   "cell_type": "markdown",
   "metadata": {},
   "source": [
    "``4.5`` 로 이루어진 행렬이 보일 것입니다. ``out`` 을 *Tensor* “$o$” 라고\n",
    "하면, 다음과 같이 구할 수 있습니다.\n",
    "$o = \\frac{1}{4}\\sum_i z_i$,\n",
    "$z_i = 3(x_i+2)^2$ 이고 $z_i\\bigr\\rvert_{x_i=1} = 27$ 입니다.\n",
    "따라서,\n",
    "$\\frac{\\partial o}{\\partial x_i} = \\frac{3}{2}(x_i+2)$ 이므로,\n",
    "$\\frac{\\partial o}{\\partial x_i}\\bigr\\rvert_{x_i=1} = \\frac{9}{2} = 4.5$.\n",
    "\n"
   ]
  },
  {
   "cell_type": "markdown",
   "metadata": {},
   "source": [
    "autograd로 많은 정신나간 일들(crazy things)도 할 수 있습니다!\n",
    "\n"
   ]
  },
  {
   "cell_type": "code",
   "execution_count": 10,
   "metadata": {},
   "outputs": [
    {
     "name": "stdout",
     "output_type": "stream",
     "text": [
      "tensor([1373.6193,  600.8168, -651.6579], grad_fn=<MulBackward>)\n"
     ]
    }
   ],
   "source": [
    "x = torch.randn(3, requires_grad=True) #난수 배열 생성\n",
    "\n",
    "y = x * 2\n",
    "while y.data.norm() < 1000: #norm이 1000 될때까지 y값 증가 시킨다.\n",
    "    y = y * 2\n",
    "\n",
    "print(y)"
   ]
  },
  {
   "cell_type": "code",
   "execution_count": 11,
   "metadata": {},
   "outputs": [
    {
     "name": "stdout",
     "output_type": "stream",
     "text": [
      "tensor([ 102.4000, 1024.0000,    0.1024])\n"
     ]
    }
   ],
   "source": [
    "gradients = torch.tensor([0.1, 1.0, 0.0001], dtype=torch.float) #요소가 3개인 배열 생성\n",
    "y.backward(gradients) #각 요소의 y에서의 기울기\n",
    "\n",
    "print(x.grad)"
   ]
  },
  {
   "cell_type": "markdown",
   "metadata": {},
   "source": [
    "``with torch.no_grad():`` 로 코드 블럭(Code Block)을 감싸서, autograd가\n",
    "requires_grad=True인 Tensor들의 연산 기록을 추적하는 것을 멈출 수 있습니다.\n",
    "\n"
   ]
  },
  {
   "cell_type": "code",
   "execution_count": 12,
   "metadata": {},
   "outputs": [
    {
     "name": "stdout",
     "output_type": "stream",
     "text": [
      "True\n",
      "True\n",
      "False\n"
     ]
    }
   ],
   "source": [
    "print(x.requires_grad)\n",
    "print((x ** 2).requires_grad)\n",
    "\n",
    "with torch.no_grad(): #requires_grad=True인 Tensor의 추적을 멈춘다.\n",
    "\tprint((x ** 2).requires_grad)"
   ]
  },
  {
   "cell_type": "markdown",
   "metadata": {},
   "source": [
    "**더 읽을거리:**\n",
    "\n",
    "``Variable`` 과 ``Function`` 관련 문서는 http://pytorch.org/docs/autograd 에\n",
    "있습니다.\n",
    "\n"
   ]
  }
 ],
 "metadata": {
  "kernelspec": {
   "display_name": "Python [conda env:turienv]",
   "language": "python",
   "name": "conda-env-turienv-py"
  },
  "language_info": {
   "codemirror_mode": {
    "name": "ipython",
    "version": 3
   },
   "file_extension": ".py",
   "mimetype": "text/x-python",
   "name": "python",
   "nbconvert_exporter": "python",
   "pygments_lexer": "ipython3",
   "version": "3.6.5"
  }
 },
 "nbformat": 4,
 "nbformat_minor": 1
}
