{
 "cells": [
  {
   "cell_type": "markdown",
   "metadata": {},
   "source": [
    "## 1. Import Required Libraries"
   ]
  },
  {
   "cell_type": "code",
   "execution_count": 1,
   "metadata": {},
   "outputs": [],
   "source": [
    "import torch\n",
    "import torch.nn as nn\n",
    "import torch.nn.init as init\n",
    "from torch.autograd import Variable"
   ]
  },
  {
   "cell_type": "markdown",
   "metadata": {},
   "source": [
    "## 2. Input Data"
   ]
  },
  {
   "cell_type": "code",
   "execution_count": 2,
   "metadata": {},
   "outputs": [
    {
     "name": "stdout",
     "output_type": "stream",
     "text": [
      "tensor([[[[1., 1., 1.],\n",
      "          [1., 1., 1.],\n",
      "          [1., 1., 1.]]]])\n"
     ]
    }
   ],
   "source": [
    "img = Variable(torch.ones(1,1,3,3)) #3 x 3 tensor 생성\n",
    "print(img) #1x1x3x3"
   ]
  },
  {
   "cell_type": "markdown",
   "metadata": {},
   "source": [
    "## 3. Set All Weights to One"
   ]
  },
  {
   "cell_type": "code",
   "execution_count": 3,
   "metadata": {},
   "outputs": [
    {
     "name": "stdout",
     "output_type": "stream",
     "text": [
      "tensor([[[[ 0.3128, -0.3078,  0.0146],\n",
      "          [-0.1770,  0.2352, -0.2788],\n",
      "          [-0.1566,  0.0028,  0.3162]]]])\n"
     ]
    },
    {
     "data": {
      "text/plain": [
       "tensor([[[[1., 1., 1.],\n",
       "          [1., 1., 1.],\n",
       "          [1., 1., 1.]]]])"
      ]
     },
     "execution_count": 3,
     "metadata": {},
     "output_type": "execute_result"
    }
   ],
   "source": [
    "#이미지에 대해서는 Convolutional layer가 성능이 좋기 때문에 이를 적용한 Autoencoder를 만들 수 있다.\n",
    "#encoding 시에는 CNN과 같이 Convolution layer를 써주고, decoding에는 Conv의 역 연산을 하는 Convolution Transposed layer을 써준다.\n",
    "\n",
    "transpose = nn.ConvTranspose2d(in_channels=1, out_channels=1, kernel_size=3, stride=1, padding=0, output_padding=0, bias=False)\n",
    "# (in_channels, out_channels, kernel_size, stride=1, padding=0, output_padding=0, groups=1, bias=True, dilation=1)\n",
    "\n",
    "#3x3 필터로 ConvT를 적용한다.\n",
    "print(transpose.weight.data)\n",
    "\n",
    "init.constant_(transpose.weight.data,1)"
   ]
  },
  {
   "cell_type": "markdown",
   "metadata": {},
   "source": [
    "## Kernel Size=3, stride=1, padding=0, output_padding=0"
   ]
  },
  {
   "cell_type": "code",
   "execution_count": 4,
   "metadata": {},
   "outputs": [
    {
     "data": {
      "text/plain": [
       "tensor([[[[1., 2., 3., 2., 1.],\n",
       "          [2., 4., 6., 4., 2.],\n",
       "          [3., 6., 9., 6., 3.],\n",
       "          [2., 4., 6., 4., 2.],\n",
       "          [1., 2., 3., 2., 1.]]]], grad_fn=<ThnnConvTranspose2DBackward>)"
      ]
     },
     "execution_count": 4,
     "metadata": {},
     "output_type": "execute_result"
    }
   ],
   "source": [
    "transpose(img) #결과는 이와 같이 나온다. #1x1x5x5\n",
    "#3 x 3 필터가 stride 1로 움직이므로, 큰 숫자가 찍힌 곳이 많은 영향을 끼친 요소이다.\n",
    "#ex. 가운데 9는 3x3 필터가 총 9번 지나가고, 좌측 최상단의 1 영역은 3x3 필터가 딱 한번 지나간다."
   ]
  },
  {
   "cell_type": "markdown",
   "metadata": {},
   "source": [
    "## Kernel Size=3, stride=2, padding=0, output_padding=0"
   ]
  },
  {
   "cell_type": "code",
   "execution_count": 5,
   "metadata": {},
   "outputs": [
    {
     "data": {
      "text/plain": [
       "tensor([[[[1., 1., 2., 1., 2., 1., 1.],\n",
       "          [1., 1., 2., 1., 2., 1., 1.],\n",
       "          [2., 2., 4., 2., 4., 2., 2.],\n",
       "          [1., 1., 2., 1., 2., 1., 1.],\n",
       "          [2., 2., 4., 2., 4., 2., 2.],\n",
       "          [1., 1., 2., 1., 2., 1., 1.],\n",
       "          [1., 1., 2., 1., 2., 1., 1.]]]],\n",
       "       grad_fn=<ThnnConvTranspose2DBackward>)"
      ]
     },
     "execution_count": 5,
     "metadata": {},
     "output_type": "execute_result"
    }
   ],
   "source": [
    "transpose = nn.ConvTranspose2d(in_channels=1, out_channels=1, kernel_size=3, stride=2, padding=0, output_padding=0, bias=False)\n",
    "init.constant_(transpose.weight.data,1)\n",
    "transpose(img) #1x1x7x7"
   ]
  },
  {
   "cell_type": "markdown",
   "metadata": {},
   "source": [
    "## Kernel Size=3, stride=2, padding=1, output_padding=0"
   ]
  },
  {
   "cell_type": "code",
   "execution_count": 6,
   "metadata": {},
   "outputs": [
    {
     "data": {
      "text/plain": [
       "tensor([[[[1., 2., 1., 2., 1.],\n",
       "          [2., 4., 2., 4., 2.],\n",
       "          [1., 2., 1., 2., 1.],\n",
       "          [2., 4., 2., 4., 2.],\n",
       "          [1., 2., 1., 2., 1.]]]], grad_fn=<ThnnConvTranspose2DBackward>)"
      ]
     },
     "execution_count": 6,
     "metadata": {},
     "output_type": "execute_result"
    }
   ],
   "source": [
    "transpose = nn.ConvTranspose2d(in_channels=1, out_channels=1, kernel_size=3, stride=2, padding=1, output_padding=0, bias=False)\n",
    "init.constant_(transpose.weight.data,1)\n",
    "transpose(img) #1x1x5x5\n",
    "#ConvT에서의 padding의 Conv에서와 달리, 사이즈 만큼 이미지를 잘라낸다고 생각하면 된다.\n",
    "#바로 위의 Kernel Size=3, stride=2, padding=0, output_padding=0의 결과와 달리 1만큼 잘렸다."
   ]
  },
  {
   "cell_type": "markdown",
   "metadata": {},
   "source": [
    "## Kernel Size=3, stride=2, padding=0, output_padding=1"
   ]
  },
  {
   "cell_type": "code",
   "execution_count": 7,
   "metadata": {},
   "outputs": [
    {
     "data": {
      "text/plain": [
       "tensor([[[[1., 1., 2., 1., 2., 1., 1., 0.],\n",
       "          [1., 1., 2., 1., 2., 1., 1., 0.],\n",
       "          [2., 2., 4., 2., 4., 2., 2., 0.],\n",
       "          [1., 1., 2., 1., 2., 1., 1., 0.],\n",
       "          [2., 2., 4., 2., 4., 2., 2., 0.],\n",
       "          [1., 1., 2., 1., 2., 1., 1., 0.],\n",
       "          [1., 1., 2., 1., 2., 1., 1., 0.],\n",
       "          [0., 0., 0., 0., 0., 0., 0., 0.]]]],\n",
       "       grad_fn=<ThnnConvTranspose2DBackward>)"
      ]
     },
     "execution_count": 7,
     "metadata": {},
     "output_type": "execute_result"
    }
   ],
   "source": [
    "transpose = nn.ConvTranspose2d(in_channels=1, out_channels=1, kernel_size=3, stride=2, padding=0, output_padding=1, bias=False)\n",
    "init.constant_(transpose.weight.data,1)\n",
    "transpose(img) #1x1x8x8\n",
    "#Conv의 padding과 같은 역할을 하는 것은 ouput_padding이다.\n",
    "#바로 위의 Kernel Size=3, stride=2, padding=1, output_padding=0의 결과와 달리 1만큼 0이 추가 되었다."
   ]
  },
  {
   "cell_type": "markdown",
   "metadata": {},
   "source": [
    "## Kernel Size=3, stride=2, padding=1, output_padding=1"
   ]
  },
  {
   "cell_type": "code",
   "execution_count": 8,
   "metadata": {},
   "outputs": [
    {
     "data": {
      "text/plain": [
       "tensor([[[[1., 2., 1., 2., 1., 1.],\n",
       "          [2., 4., 2., 4., 2., 2.],\n",
       "          [1., 2., 1., 2., 1., 1.],\n",
       "          [2., 4., 2., 4., 2., 2.],\n",
       "          [1., 2., 1., 2., 1., 1.],\n",
       "          [1., 2., 1., 2., 1., 1.]]]], grad_fn=<ThnnConvTranspose2DBackward>)"
      ]
     },
     "execution_count": 8,
     "metadata": {},
     "output_type": "execute_result"
    }
   ],
   "source": [
    "transpose = nn.ConvTranspose2d(in_channels=1, out_channels=1, kernel_size=3, stride=2, padding=1, output_padding=1, bias=False)\n",
    "init.constant_(transpose.weight.data,1)\n",
    "transpose(img) #1x1x6x6\n",
    "#원본의 2배로 늘어난다. 이렇게 2배로 늘려주는 ConvT를 자주 사용한다."
   ]
  }
 ],
 "metadata": {
  "kernelspec": {
   "display_name": "Python [conda env:turienv]",
   "language": "python",
   "name": "conda-env-turienv-py"
  },
  "language_info": {
   "codemirror_mode": {
    "name": "ipython",
    "version": 3
   },
   "file_extension": ".py",
   "mimetype": "text/x-python",
   "name": "python",
   "nbconvert_exporter": "python",
   "pygments_lexer": "ipython3",
   "version": "3.6.5"
  }
 },
 "nbformat": 4,
 "nbformat_minor": 2
}
