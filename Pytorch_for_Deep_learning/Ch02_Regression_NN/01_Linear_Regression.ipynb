{
 "cells": [
  {
   "cell_type": "markdown",
   "metadata": {},
   "source": [
    "# Linear Regression"
   ]
  },
  {
   "cell_type": "markdown",
   "metadata": {},
   "source": [
    "## 1. Import Required Libraries"
   ]
  },
  {
   "cell_type": "code",
   "execution_count": 1,
   "metadata": {},
   "outputs": [],
   "source": [
    "import numpy as np\n",
    "import torch\n",
    "import torch.nn as nn\n",
    "import torch.optim as optim\n",
    "import torch.nn.init as init\n",
    "from torch.autograd import Variable"
   ]
  },
  {
   "cell_type": "markdown",
   "metadata": {},
   "source": [
    "## 2. Generate Data"
   ]
  },
  {
   "cell_type": "code",
   "execution_count": 2,
   "metadata": {},
   "outputs": [],
   "source": [
    "num_data = 1000 #데이터 1000개\n",
    "num_epochs = 1000 #epoch 1000번\n",
    "\n",
    "noise = init.normal_(torch.FloatTensor(num_data, 1), std=1) \n",
    "#표준편차가 1의, num_data x 1 size의 FloatTensor 생성. 정규분포\n",
    "x = init.uniform_(torch.Tensor(num_data, 1), -10, 10)\n",
    "#-10은 균등 분포 최소 값, 10은 균등 분포 최대 값. 균등분포는 모든 요소 확률 같음\n",
    "\n",
    "#nn.init에서 변수값을 다양한 방식으로 생성 해주는 함수들이 있다. \n",
    "#normal, uniform 의 이름이 각각 normal_, uniform_으로 변경되었다.\n",
    "\n",
    "y = 2*x + 3 #구하려는 값\n",
    "y_noise = 2*x + 3 + noise #실제 데이터로 주어지는 식은 noise가 끼어 있어 제대로 된 방정식을 구해야 한다."
   ]
  },
  {
   "cell_type": "markdown",
   "metadata": {},
   "source": [
    "## 3. Model & Optimizer"
   ]
  },
  {
   "cell_type": "code",
   "execution_count": 3,
   "metadata": {},
   "outputs": [],
   "source": [
    "class Model(nn.Module):\n",
    "    def __init__(self, input_dim=1, output_dim=1):\n",
    "        super(Model, self).__init__()\n",
    "        self.fc = nn.Linear(input_dim, output_dim) #Linear 모델 (in_features, out_features, bias=True)\n",
    "\n",
    "    def forward(self, x):\n",
    "        return self.fc(x)\n",
    "\n",
    "model = Model() #가중치와 편향은 자동으로 초기화 된다. 사용자가 직접 정의해 줄 수도 있다.\n",
    "#model.fc.weight, model.fc.bias로 접근 가능하다."
   ]
  },
  {
   "cell_type": "markdown",
   "metadata": {},
   "source": [
    "## 4. Train"
   ]
  },
  {
   "cell_type": "code",
   "execution_count": 4,
   "metadata": {},
   "outputs": [
    {
     "name": "stdout",
     "output_type": "stream",
     "text": [
      "epoch 0, \tloss 201.7200164794922\n",
      "epoch 50, \tloss 2.1498210430145264\n",
      "epoch 100, \tloss 1.2593387365341187\n",
      "epoch 150, \tloss 1.140467643737793\n",
      "epoch 200, \tloss 1.1245994567871094\n",
      "epoch 250, \tloss 1.1224812269210815\n",
      "epoch 300, \tloss 1.122198462486267\n",
      "epoch 350, \tloss 1.1221606731414795\n",
      "epoch 400, \tloss 1.1221556663513184\n",
      "epoch 450, \tloss 1.122154951095581\n",
      "epoch 500, \tloss 1.122154951095581\n",
      "epoch 550, \tloss 1.1221548318862915\n",
      "epoch 600, \tloss 1.1221548318862915\n",
      "epoch 650, \tloss 1.122154951095581\n",
      "epoch 700, \tloss 1.122154951095581\n",
      "epoch 750, \tloss 1.122154951095581\n",
      "epoch 800, \tloss 1.122154951095581\n",
      "epoch 850, \tloss 1.122154951095581\n",
      "epoch 900, \tloss 1.122154951095581\n",
      "epoch 950, \tloss 1.122154951095581\n"
     ]
    }
   ],
   "source": [
    "l_rate = 0.01\n",
    "criterion = nn.MSELoss() #손실함수\n",
    "optimizer = optim.SGD(model.parameters(), lr=l_rate) #parameters() 메서드로 해당 객체(모델)의 모든 파라미터를 가져온다.\n",
    "\n",
    "for i in range(num_epochs):\n",
    "    optimizer.zero_grad() #optimiser.step으로 업데이트된 그라디언트 값들을 초기화해 줘야 한다.\n",
    "    #이 코드가 없으면, 그라디언트 값들이 누적되어서 제대로 학습되지 않는다.\n",
    "    outputs = model.forward(x) #학습\n",
    "    loss = criterion(outputs, y_noise) #예측한 값과, 정답\n",
    "    loss.backward() #역전파 해 준다.\n",
    "    optimizer.step() #변수 업데이트 \n",
    "    \n",
    "    if i % 50 == 0:\n",
    "        print('epoch {}, \\tloss {}'.format(i, loss)) #50번 마다 손실 출력\n",
    "        \n",
    "#원래는 Tensor 값인 x, y를 Variable로 변환해서 traininig 해야 했지만, 4.0 부터는 Tensor 그대로 넣어도 된다."
   ]
  },
  {
   "cell_type": "code",
   "execution_count": 5,
   "metadata": {},
   "outputs": [
    {
     "name": "stdout",
     "output_type": "stream",
     "text": [
      "tensor([[1.9985]]) tensor([2.9984])\n"
     ]
    }
   ],
   "source": [
    "param_list = list(model.parameters())\n",
    "print(param_list[0].data, param_list[1].data)\n",
    "#결과값이 실제 값인 2, 3에 근접하게 나온다."
   ]
  }
 ],
 "metadata": {
  "kernelspec": {
   "display_name": "Python [conda env:turienv]",
   "language": "python",
   "name": "conda-env-turienv-py"
  },
  "language_info": {
   "codemirror_mode": {
    "name": "ipython",
    "version": 3
   },
   "file_extension": ".py",
   "mimetype": "text/x-python",
   "name": "python",
   "nbconvert_exporter": "python",
   "pygments_lexer": "ipython3",
   "version": "3.6.5"
  }
 },
 "nbformat": 4,
 "nbformat_minor": 2
}
