{
 "cells": [
  {
   "cell_type": "markdown",
   "metadata": {},
   "source": [
    "## Sequential"
   ]
  },
  {
   "cell_type": "code",
   "execution_count": 1,
   "metadata": {},
   "outputs": [],
   "source": [
    "import torch\n",
    "import torch.nn as nn\n",
    "import torch.nn.functional as F\n",
    "import torch.optim as optim\n",
    "\n",
    "import torchvision\n",
    "import torchvision.transforms as transforms\n",
    "import torchvision.datasets as datasets\n",
    "\n",
    "from torch.utils.data import DataLoader"
   ]
  },
  {
   "cell_type": "code",
   "execution_count": 2,
   "metadata": {},
   "outputs": [
    {
     "name": "stdout",
     "output_type": "stream",
     "text": [
      "Files already downloaded and verified\n",
      "Files already downloaded and verified\n"
     ]
    }
   ],
   "source": [
    "transform = transforms.Compose([transforms.ToTensor(), transforms.Normalize((0.5, 0.5, 0.5), (0.5, 0.5, 0.5))])\n",
    "#ToTensor는 가져온 이미지를 Tensor 형테로 변환(np를 Tensor로) 채널이 변한다. #ToTensor C x H x W 을 H x W x C로 바꿔준다.\n",
    "#transforms은 선처리를 위한 함수. #CenterCrop 등 다른 함수도 있다.\n",
    "#transforms.Compose는 선처리를 위한 컨테이너\n",
    "\n",
    "trainset = datasets.CIFAR10(root=\"./data\", train=True, download=True, transform=transform)\n",
    "#train=True로 하면 train 데이터로 가져온다.\n",
    "testset = datasets.CIFAR10(root=\"./data\", train=False, download=True, transform=transform)\n",
    "#train=false로 하면 test 데이터로 가져온다.\n",
    "#이미 선언되어 있는 데이터 셋을 가져온다. .을 붙여줘야 된다(안 붙이면 pemission denied)."
   ]
  },
  {
   "cell_type": "code",
   "execution_count": 3,
   "metadata": {},
   "outputs": [],
   "source": [
    "class Net(nn.Module): #Module상속 \n",
    "    def __init__(self):\n",
    "        super(Net, self).__init__()\n",
    "        \n",
    "        self.layer1 = nn.Sequential( #Sequential는 layer 컨테이너라고 생각하면 된다.\n",
    "            nn.Conv2d(3, 32, 5), \n",
    "            nn.ReLU(inplace=True),\n",
    "            nn.Conv2d(32, 64, 3), \n",
    "            nn.ReLU(inplace=True),\n",
    "            nn.Conv2d(64, 128, 3), \n",
    "            nn.Conv2d(128, 128, 3), \n",
    "            nn.ReLU(inplace=True),\n",
    "            nn.Conv2d(128, 256, 3), \n",
    "            nn.MaxPool2d(2)\n",
    "        )\n",
    "        \n",
    "        self.layer2_1 = nn.Sequential(\n",
    "            nn.Conv2d(256, 512, 7, 1, 2), \n",
    "            nn.Conv2d(512, 64, 1), \n",
    "            nn.MaxPool2d(2)\n",
    "        )\n",
    "        \n",
    "        self.layer2_2 = nn.Sequential(\n",
    "            nn.Conv2d(256, 512, 5, 1, 1), \n",
    "            nn.Conv2d(512, 64, 1), \n",
    "            nn.MaxPool2d(2)\n",
    "        )\n",
    "        \n",
    "        self.layer2_3 = nn.Sequential(\n",
    "            nn.Conv2d(256, 512, 3), \n",
    "            nn.Conv2d(512, 64, 1), \n",
    "            nn.MaxPool2d(2)\n",
    "        )\n",
    "        \n",
    "        self.fc = nn.Sequential(\n",
    "            nn.Linear(3*64*4*4, 1024),\n",
    "            nn.ReLU(),\n",
    "            nn.Linear(1024, 10)\n",
    "        )\n",
    "        \n",
    "    def forward(self, x):\n",
    "        print(x.size()) #Tensor는 shape()가 아닌 size()로 모양을 확인한다.\n",
    "        \n",
    "        x = self.layer1(x)\n",
    "        x1 = self.layer2_1(x)\n",
    "        x2 = self.layer2_2(x)\n",
    "        x3 = self.layer2_3(x)\n",
    "        \n",
    "        x = torch.cat((x1, x2, x3), 1) #1은 dimension\n",
    "        x = x.view(x.shape[0], -1)\n",
    "        x = self.fc(x)\n",
    "        \n",
    "        return x"
   ]
  },
  {
   "cell_type": "code",
   "execution_count": 4,
   "metadata": {},
   "outputs": [
    {
     "name": "stdout",
     "output_type": "stream",
     "text": [
      "torch.Size([1, 3, 32, 32])\n"
     ]
    }
   ],
   "source": [
    "a = torch.rand(1, 3, 32, 32)\n",
    "print(a.shape)"
   ]
  },
  {
   "cell_type": "code",
   "execution_count": 5,
   "metadata": {},
   "outputs": [
    {
     "name": "stdout",
     "output_type": "stream",
     "text": [
      "torch.Size([1, 3, 32, 32])\n",
      "torch.Size([1, 10])\n"
     ]
    }
   ],
   "source": [
    "network = Net() #모델 생성\n",
    "out = network(a)\n",
    "print(out.shape)"
   ]
  },
  {
   "cell_type": "code",
   "execution_count": 6,
   "metadata": {},
   "outputs": [
    {
     "name": "stdout",
     "output_type": "stream",
     "text": [
      "tensor([[ 0.0165,  0.0008,  0.0289, -0.0149, -0.0021,  0.0156,  0.0051,  0.0031,\n",
      "          0.0218, -0.0284]], grad_fn=<ThAddmmBackward>)\n"
     ]
    }
   ],
   "source": [
    "print(out)\n",
    "#모델을 저장해서 불러 왔을 때 같은 값인지를 나중에 확인해 본다."
   ]
  },
  {
   "cell_type": "markdown",
   "metadata": {},
   "source": [
    "## Save and Load"
   ]
  },
  {
   "cell_type": "code",
   "execution_count": 7,
   "metadata": {},
   "outputs": [],
   "source": [
    "torch.save(network.state_dict(), \"./cnn.pth\") #모델의 파라미터 저장"
   ]
  },
  {
   "cell_type": "code",
   "execution_count": 8,
   "metadata": {},
   "outputs": [],
   "source": [
    "model = Net()\n",
    "model.load_state_dict(torch.load(\"./cnn.pth\")) #모델의 파라미터를 불러와 입력해 준다."
   ]
  },
  {
   "cell_type": "code",
   "execution_count": 9,
   "metadata": {},
   "outputs": [
    {
     "name": "stdout",
     "output_type": "stream",
     "text": [
      "torch.Size([1, 3, 32, 32])\n",
      "tensor([[ 0.0165,  0.0008,  0.0289, -0.0149, -0.0021,  0.0156,  0.0051,  0.0031,\n",
      "          0.0218, -0.0284]], grad_fn=<ThAddmmBackward>)\n"
     ]
    }
   ],
   "source": [
    "out = model(a)\n",
    "print(out)\n",
    "#위에서의 출력과 같다."
   ]
  }
 ],
 "metadata": {
  "kernelspec": {
   "display_name": "Python [conda env:turienv]",
   "language": "python",
   "name": "conda-env-turienv-py"
  },
  "language_info": {
   "codemirror_mode": {
    "name": "ipython",
    "version": 3
   },
   "file_extension": ".py",
   "mimetype": "text/x-python",
   "name": "python",
   "nbconvert_exporter": "python",
   "pygments_lexer": "ipython3",
   "version": "3.6.5"
  }
 },
 "nbformat": 4,
 "nbformat_minor": 2
}
