{
 "cells": [
  {
   "cell_type": "markdown",
   "metadata": {},
   "source": [
    "## 나의 데이터 셋을 편하게 불러오려면?\n",
    "\n",
    "실제로 사용하는 데이터가 모두 image는 아니기 때문에 Custom Dataset으로 만들어 주면 편하다.    \n",
    "image는 imageFolder를 사용해주는 것이 훨씬 편하다.    \n",
    "기본적으로 Dataset을 만들어 주고 DataLoader에 넣어준다.\n",
    "\n",
    "## Dataset은 이렇게 만들어야 한다.\n",
    "    - torch.utils.data.Dataset을 상속해야 한다.\n",
    "    - __init__(self) 구현 : 생성자. dataset을 가져와 선처리 해준다.\n",
    "    - __len__(self) 구현 : dataset의 길이\n",
    "    - __getitem__(self, index) 구현 : dataset에서 한 개의 data를 가져오는 함수를 정의한다.\n",
    "    \n",
    "Pytorch_Zero_to_All/08_DataLoader.ipynb 참고"
   ]
  },
  {
   "cell_type": "code",
   "execution_count": 1,
   "metadata": {},
   "outputs": [],
   "source": [
    "import os\n",
    "import torch\n",
    "import torch.nn as nn\n",
    "import torch.nn.functional as F\n",
    "\n",
    "import torchvision\n",
    "import torchvision.transforms as transforms\n",
    "\n",
    "from torch.utils.data import DataLoader, Dataset\n",
    "\n",
    "import PIL.Image as Image\n",
    "import matplotlib.pyplot as plt"
   ]
  }
 ],
 "metadata": {
  "kernelspec": {
   "display_name": "Python [conda env:turienv]",
   "language": "python",
   "name": "conda-env-turienv-py"
  },
  "language_info": {
   "codemirror_mode": {
    "name": "ipython",
    "version": 3
   },
   "file_extension": ".py",
   "mimetype": "text/x-python",
   "name": "python",
   "nbconvert_exporter": "python",
   "pygments_lexer": "ipython3",
   "version": "3.6.5"
  }
 },
 "nbformat": 4,
 "nbformat_minor": 2
}
