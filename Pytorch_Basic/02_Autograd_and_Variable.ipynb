{
 "cells": [
  {
   "cell_type": "markdown",
   "metadata": {},
   "source": [
    "## Autograd\n",
    "\n",
    "automati differentiation\n",
    "\n",
    "- Autograd를 사용하면 backprop를 위한 미분 값을 자동으로 계산해 준다.\n",
    "- 자동 계산을 위해 사용하는 변수는 torch.autograd에 있는 Variable(4.0 부터는 Tensor 그대로도 가능)"
   ]
  },
  {
   "cell_type": "markdown",
   "metadata": {},
   "source": [
    "## Variable\n",
    "\n",
    "variable은 data, grad, grad_fn으로 구성되어 있다. 4.0부터는 Tensor가 기본적으로 Variable이 된다.\n",
    "\n",
    "- data : Tensor 형태의 데이터가 담긴다.\n",
    "- grad : data가 거쳐온 layer에 대한 미분값이 축적된다.\n",
    "- grad_fn : 미분 값을 계산한 함수에 대한 정보\n",
    "\n",
    "requires_grad가 True인 tensor가 Function의 결과로 생성된 tensor는 grad_fn를 가지고 있다.    \n",
    "사용자가 직접 생성한 tensor는 grad_fn를 가지고 있지 않다. 직접 생성한 Tensor는 직접적으로 연산하지 않으므로, 기울기를 계산할 필요가 없기 때문이다."
   ]
  },
  {
   "cell_type": "code",
   "execution_count": 1,
   "metadata": {},
   "outputs": [],
   "source": [
    "import torch\n",
    "from torch.autograd import Variable"
   ]
  },
  {
   "cell_type": "code",
   "execution_count": 2,
   "metadata": {},
   "outputs": [
    {
     "data": {
      "text/plain": [
       "tensor([[1., 1.],\n",
       "        [1., 1.]], requires_grad=True)"
      ]
     },
     "execution_count": 2,
     "metadata": {},
     "output_type": "execute_result"
    }
   ],
   "source": [
    "a = torch.ones(2, 2, requires_grad=True) #requires_grad를 설정해 기울기를 계산해야 하는 값임을 알려준다.\n",
    "a\n",
    "\n",
    "#이전에는 Tensor를 Variable로 변환해서 연산에 사용하고, requires_grad 도 설정해줘야 했지만, \n",
    "#4.0 이후 부터는 Tensor에서 바로 설정하고 연산에 적용할 수 있다.\n",
    "#Pytorch_Tutorials/Deep_Learning_with_PyTorch-A_60_Minute_Blitz/02_autograd_tutorial.ipynb 참고"
   ]
  },
  {
   "cell_type": "code",
   "execution_count": 3,
   "metadata": {},
   "outputs": [
    {
     "name": "stdout",
     "output_type": "stream",
     "text": [
      "tensor([[1., 1.],\n",
      "        [1., 1.]])\n",
      "None\n",
      "None\n"
     ]
    }
   ],
   "source": [
    "print(a.data)\n",
    "print(a.grad)\n",
    "print(a.grad_fn)"
   ]
  },
  {
   "cell_type": "code",
   "execution_count": 4,
   "metadata": {},
   "outputs": [
    {
     "data": {
      "text/plain": [
       "tensor([[3., 3.],\n",
       "        [3., 3.]], grad_fn=<AddBackward>)"
      ]
     },
     "execution_count": 4,
     "metadata": {},
     "output_type": "execute_result"
    }
   ],
   "source": [
    "b = a + 2\n",
    "b"
   ]
  },
  {
   "cell_type": "code",
   "execution_count": 5,
   "metadata": {},
   "outputs": [
    {
     "data": {
      "text/plain": [
       "tensor([[9., 9.],\n",
       "        [9., 9.]], grad_fn=<PowBackward0>)"
      ]
     },
     "execution_count": 5,
     "metadata": {},
     "output_type": "execute_result"
    }
   ],
   "source": [
    "c = b**2\n",
    "c"
   ]
  },
  {
   "cell_type": "code",
   "execution_count": 6,
   "metadata": {},
   "outputs": [
    {
     "data": {
      "text/plain": [
       "tensor(36., grad_fn=<SumBackward0>)"
      ]
     },
     "execution_count": 6,
     "metadata": {},
     "output_type": "execute_result"
    }
   ],
   "source": [
    "out = c.sum()\n",
    "out"
   ]
  },
  {
   "cell_type": "code",
   "execution_count": 7,
   "metadata": {},
   "outputs": [],
   "source": [
    "out.backward() #역전파 한다. # 두 번 호출하면 다른 값이 나오거나 오류 발생할 수 있다.\n",
    "#메모리 최적화를 위해, 더 이상 필요하지 않은 값은 삭제해 버리기 때문\n",
    "\n",
    "#requires_grad가 True인 tensor가 Function의 결과로 생성된 tensor는 grad_fn를 가지고 있다."
   ]
  },
  {
   "cell_type": "code",
   "execution_count": 8,
   "metadata": {},
   "outputs": [
    {
     "name": "stdout",
     "output_type": "stream",
     "text": [
      "tensor([[1., 1.],\n",
      "        [1., 1.]])\n",
      "tensor([[6., 6.],\n",
      "        [6., 6.]])\n",
      "None\n"
     ]
    }
   ],
   "source": [
    "print(a.data)\n",
    "print(a.grad)\n",
    "print(a.grad_fn) #사용자가 직접 생성한 tensor는 grad_fn를 가지고 있지 않다. \n",
    "#직접 생성한 Tensor는 직접적으로 연산하지 않으므로, 기울기를 계산할 필요가 없기 때문이다.\n",
    "\n",
    "#이전과 달리, grad의 값이 생긴다."
   ]
  },
  {
   "cell_type": "code",
   "execution_count": 9,
   "metadata": {},
   "outputs": [
    {
     "name": "stdout",
     "output_type": "stream",
     "text": [
      "tensor([[3., 3.],\n",
      "        [3., 3.]])\n",
      "None\n",
      "<AddBackward object at 0x115f2a4e0>\n"
     ]
    }
   ],
   "source": [
    "print(b.data)\n",
    "print(b.grad)\n",
    "print(b.grad_fn) #requires_grad가 True인 tensor(a)가 Function의 결과로 생성된 tensor는 grad_fn를 가지고 있다.\n",
    "#b = a + 2 에 대한 역전파를 할 때의 grad_fn가 담긴다."
   ]
  },
  {
   "cell_type": "code",
   "execution_count": 10,
   "metadata": {},
   "outputs": [
    {
     "name": "stdout",
     "output_type": "stream",
     "text": [
      "tensor([[9., 9.],\n",
      "        [9., 9.]])\n",
      "None\n",
      "<PowBackward0 object at 0x115f2a208>\n"
     ]
    }
   ],
   "source": [
    "print(c.data)\n",
    "print(c.grad)\n",
    "print(c.grad_fn) #requires_grad가 True인 tensor(a)가 Function의 결과로 생성된 tensor는 grad_fn를 가지고 있다.\n",
    "#b = b^2 에 대한 역전파를 할 때의 grad_fn가 담긴다."
   ]
  },
  {
   "cell_type": "code",
   "execution_count": 11,
   "metadata": {},
   "outputs": [
    {
     "name": "stdout",
     "output_type": "stream",
     "text": [
      "tensor(36.)\n",
      "None\n",
      "<SumBackward0 object at 0x115f2a208>\n"
     ]
    }
   ],
   "source": [
    "print(out.data)\n",
    "print(out.grad)\n",
    "print(out.grad_fn) #requires_grad가 True인 tensor(a)가 Function의 결과로 생성된 tensor는 grad_fn를 가지고 있다.\n",
    "#out = c.sum() 에 대한 역전파를 할 때의 grad_fn가 담긴다."
   ]
  },
  {
   "cell_type": "markdown",
   "metadata": {},
   "source": [
    "## 주의할 점"
   ]
  },
  {
   "cell_type": "code",
   "execution_count": 12,
   "metadata": {},
   "outputs": [
    {
     "name": "stdout",
     "output_type": "stream",
     "text": [
      "tensor([3., 3., 3.], grad_fn=<MulBackward>)\n"
     ]
    }
   ],
   "source": [
    "x = torch.ones(3, requires_grad=True)\n",
    "y = x**2\n",
    "z = y * 3\n",
    "print(z)"
   ]
  },
  {
   "cell_type": "code",
   "execution_count": 13,
   "metadata": {},
   "outputs": [],
   "source": [
    "grad = torch.Tensor([0.1, 1, 10])\n",
    "z.backward(grad)\n",
    "#z = 3 * x^2 이므로 이를 미분하면 3 * 2 *x(1) 이므로 6이 된다."
   ]
  },
  {
   "cell_type": "code",
   "execution_count": 14,
   "metadata": {},
   "outputs": [
    {
     "name": "stdout",
     "output_type": "stream",
     "text": [
      "tensor([1., 1., 1.])\n",
      "tensor([ 0.6000,  6.0000, 60.0000])\n",
      "None\n"
     ]
    }
   ],
   "source": [
    "print(x.data)\n",
    "print(x.grad)\n",
    "print(x.grad_fn)\n",
    "\n",
    "#하지만, grad에서는 [ 0.6000,  6.0000, 60.0000]이 나오는데, 이는 backward 매개변수로 넣어진 grad의 형태에 맞춰서 곱해지기 때문이다."
   ]
  }
 ],
 "metadata": {
  "kernelspec": {
   "display_name": "Python [conda env:turienv]",
   "language": "python",
   "name": "conda-env-turienv-py"
  },
  "language_info": {
   "codemirror_mode": {
    "name": "ipython",
    "version": 3
   },
   "file_extension": ".py",
   "mimetype": "text/x-python",
   "name": "python",
   "nbconvert_exporter": "python",
   "pygments_lexer": "ipython3",
   "version": "3.6.5"
  }
 },
 "nbformat": 4,
 "nbformat_minor": 2
}
