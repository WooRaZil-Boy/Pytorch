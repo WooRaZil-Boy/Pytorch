{
 "cells": [
  {
   "cell_type": "markdown",
   "metadata": {},
   "source": [
    "## Tensor\n",
    "\n",
    "- Tensor는 Pytorch의 자료형\n",
    "- Tensor는 단일 데이터 타입으로 이루어진 자료들의 다차원 행렬\n",
    "- Tensor는 간단한 명령어로 GPU 연산을 할 수 있다. .cuda()를 추가해 주면 된다."
   ]
  },
  {
   "cell_type": "markdown",
   "metadata": {},
   "source": [
    "### Tensor의 선언"
   ]
  },
  {
   "cell_type": "code",
   "execution_count": 7,
   "metadata": {},
   "outputs": [],
   "source": [
    "import torch\n",
    "import numpy as np"
   ]
  },
  {
   "cell_type": "code",
   "execution_count": 3,
   "metadata": {},
   "outputs": [
    {
     "data": {
      "text/plain": [
       "tensor([                    0., -36893488147419103232.,      -132215568596992.])"
      ]
     },
     "execution_count": 3,
     "metadata": {},
     "output_type": "execute_result"
    }
   ],
   "source": [
    "x = torch.Tensor(3) #초기화 되지 않은 Tensor를 생성한다.\n",
    "x\n",
    "\n",
    "#GPU tensor는 torch.cuda.Tensor(3) 식으로 선언해 주면 된다."
   ]
  },
  {
   "cell_type": "code",
   "execution_count": 4,
   "metadata": {},
   "outputs": [
    {
     "data": {
      "text/plain": [
       "tensor([[                    0.0000, -36893488147419103232.0000,\n",
       "                             0.0000],\n",
       "        [-36893488147419103232.0000,                     0.0000,\n",
       "                             0.0000],\n",
       "        [                    0.0000,                     0.0000,\n",
       "                             0.0000]])"
      ]
     },
     "execution_count": 4,
     "metadata": {},
     "output_type": "execute_result"
    }
   ],
   "source": [
    "y = torch.Tensor(3, 3) #초기화 되지 않은 Tensor를 생성한다.\n",
    "y\n",
    "\n",
    "#GPU tensor는 torch.cuda.Tensor(3, 3) 식으로 선언해 주면 된다."
   ]
  },
  {
   "cell_type": "markdown",
   "metadata": {},
   "source": [
    "### Tensor의 random 선언"
   ]
  },
  {
   "cell_type": "code",
   "execution_count": 5,
   "metadata": {},
   "outputs": [
    {
     "data": {
      "text/plain": [
       "tensor([[0.3089, 0.5450, 0.2704],\n",
       "        [0.0963, 0.5829, 0.0850],\n",
       "        [0.0261, 0.0640, 0.2017]])"
      ]
     },
     "execution_count": 5,
     "metadata": {},
     "output_type": "execute_result"
    }
   ],
   "source": [
    "a = torch.rand(3, 3) #rand는 0 ~ 1 사이의 uniform distribution random\n",
    "a"
   ]
  },
  {
   "cell_type": "code",
   "execution_count": 6,
   "metadata": {},
   "outputs": [
    {
     "data": {
      "text/plain": [
       "tensor([[ 0.0702,  0.1806, -1.0908],\n",
       "        [-0.1752,  0.4939, -1.8782],\n",
       "        [-1.3384,  0.0159, -0.2766]])"
      ]
     },
     "execution_count": 6,
     "metadata": {},
     "output_type": "execute_result"
    }
   ],
   "source": [
    "b = torch.randn(3, 3) #randn는 0 ~ 1 사이의 normal distribution random\n",
    "b"
   ]
  },
  {
   "cell_type": "markdown",
   "metadata": {},
   "source": [
    "### Numpy에서 Tensor로"
   ]
  },
  {
   "cell_type": "code",
   "execution_count": 8,
   "metadata": {},
   "outputs": [
    {
     "data": {
      "text/plain": [
       "tensor([1., 2., 3., 4.])"
      ]
     },
     "execution_count": 8,
     "metadata": {},
     "output_type": "execute_result"
    }
   ],
   "source": [
    "a = np.array([1, 2, 3, 4])\n",
    "b = torch.Tensor(a) #단순히 Tensor에 넣어주면 변환된다.\n",
    "b"
   ]
  },
  {
   "cell_type": "markdown",
   "metadata": {},
   "source": [
    "### Tensor에서  Numpy로"
   ]
  },
  {
   "cell_type": "code",
   "execution_count": 9,
   "metadata": {},
   "outputs": [
    {
     "data": {
      "text/plain": [
       "array([[0.05079883, 0.96433324, 0.6975273 ],\n",
       "       [0.669832  , 0.25096315, 0.97871727],\n",
       "       [0.7586607 , 0.6685751 , 0.01797998]], dtype=float32)"
      ]
     },
     "execution_count": 9,
     "metadata": {},
     "output_type": "execute_result"
    }
   ],
   "source": [
    "a = torch.rand(3, 3)\n",
    "b = a.numpy() #단순히 Tensor 변수에서 numpy() 메서드를 호출하면 변환된다.\n",
    "b"
   ]
  },
  {
   "cell_type": "markdown",
   "metadata": {},
   "source": [
    "### Tensor의 형태 변환(view)"
   ]
  },
  {
   "cell_type": "code",
   "execution_count": 11,
   "metadata": {},
   "outputs": [
    {
     "name": "stdout",
     "output_type": "stream",
     "text": [
      "tensor([[0.7540, 0.6585, 0.5049],\n",
      "        [0.7242, 0.7522, 0.3540],\n",
      "        [0.9209, 0.4321, 0.5459]])\n",
      "tensor([[[[0.7540, 0.6585, 0.5049],\n",
      "          [0.7242, 0.7522, 0.3540],\n",
      "          [0.9209, 0.4321, 0.5459]]]])\n"
     ]
    }
   ],
   "source": [
    "a = torch.rand(3, 3)\n",
    "print(a)\n",
    "a = a.view(1, 1, 3, 3) #view에 변환할 형태를 넣어주면 돈다. 4차원 행렬이 된다.\n",
    "print(a)"
   ]
  },
  {
   "cell_type": "markdown",
   "metadata": {},
   "source": [
    "### Tensor 합치기"
   ]
  },
  {
   "cell_type": "code",
   "execution_count": 12,
   "metadata": {},
   "outputs": [
    {
     "data": {
      "text/plain": [
       "tensor([[[[ 0.2994, -1.2702,  0.2555],\n",
       "          [ 0.3550, -1.1052,  0.8943],\n",
       "          [-0.1318, -0.6716, -0.2217]]],\n",
       "\n",
       "\n",
       "        [[[ 1.3070,  0.3053,  2.6665],\n",
       "          [ 3.4230, -1.4231,  0.3703],\n",
       "          [ 1.6967, -0.1317, -0.0381]]]])"
      ]
     },
     "execution_count": 12,
     "metadata": {},
     "output_type": "execute_result"
    }
   ],
   "source": [
    "a = torch.randn(1, 1, 3, 3)\n",
    "b = torch.randn(1, 1, 3, 3)\n",
    "c = torch.cat((a, b), 0) #0은 차원. 각 해당 tensor를 dim에 맞춰 합쳐 준다.\n",
    "c"
   ]
  },
  {
   "cell_type": "code",
   "execution_count": 13,
   "metadata": {},
   "outputs": [
    {
     "data": {
      "text/plain": [
       "tensor([[[[ 1.6064, -0.9650,  2.9220],\n",
       "          [ 3.7780, -2.5283,  1.2646],\n",
       "          [ 1.5649, -0.8033, -0.2598]]]])"
      ]
     },
     "execution_count": 13,
     "metadata": {},
     "output_type": "execute_result"
    }
   ],
   "source": [
    "a + b\n",
    "#cf. + 연산자를 사용하면 단순히 값을 합친다."
   ]
  },
  {
   "cell_type": "markdown",
   "metadata": {},
   "source": [
    "### Tensor 계산을 GPU로"
   ]
  },
  {
   "cell_type": "code",
   "execution_count": 14,
   "metadata": {},
   "outputs": [],
   "source": [
    "x = torch.rand(3, 3)\n",
    "y = torch.rand(3, 3)\n",
    "\n",
    "if torch.cuda.is_available(): #GPU 사용 가능하면\n",
    "    x = x.cuda() #.cuda()만 추가해 주면 된다.\n",
    "    y = y.cuda()"
   ]
  },
  {
   "cell_type": "markdown",
   "metadata": {},
   "source": [
    "### 그 외"
   ]
  },
  {
   "cell_type": "code",
   "execution_count": 15,
   "metadata": {},
   "outputs": [
    {
     "data": {
      "text/plain": [
       "tensor(0.4594)"
      ]
     },
     "execution_count": 15,
     "metadata": {},
     "output_type": "execute_result"
    }
   ],
   "source": [
    "a = torch.rand(3, 3)\n",
    "a.mean() #평균"
   ]
  },
  {
   "cell_type": "code",
   "execution_count": 16,
   "metadata": {},
   "outputs": [
    {
     "data": {
      "text/plain": [
       "tensor(4.1344)"
      ]
     },
     "execution_count": 16,
     "metadata": {},
     "output_type": "execute_result"
    }
   ],
   "source": [
    "a.sum() #합"
   ]
  }
 ],
 "metadata": {
  "kernelspec": {
   "display_name": "Python [conda env:turienv]",
   "language": "python",
   "name": "conda-env-turienv-py"
  },
  "language_info": {
   "codemirror_mode": {
    "name": "ipython",
    "version": 3
   },
   "file_extension": ".py",
   "mimetype": "text/x-python",
   "name": "python",
   "nbconvert_exporter": "python",
   "pygments_lexer": "ipython3",
   "version": "3.6.5"
  }
 },
 "nbformat": 4,
 "nbformat_minor": 2
}
